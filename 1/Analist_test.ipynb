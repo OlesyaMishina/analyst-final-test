{
 "cells": [
  {
   "cell_type": "code",
   "execution_count": 8,
   "id": "2377c1f9",
   "metadata": {},
   "outputs": [],
   "source": [
    "import pandas as pd\n"
   ]
  },
  {
   "cell_type": "code",
   "execution_count": 71,
   "id": "3eab6fd7",
   "metadata": {},
   "outputs": [
    {
     "data": {
      "text/html": [
       "<div>\n",
       "<style scoped>\n",
       "    .dataframe tbody tr th:only-of-type {\n",
       "        vertical-align: middle;\n",
       "    }\n",
       "\n",
       "    .dataframe tbody tr th {\n",
       "        vertical-align: top;\n",
       "    }\n",
       "\n",
       "    .dataframe thead th {\n",
       "        text-align: right;\n",
       "    }\n",
       "</style>\n",
       "<table border=\"1\" class=\"dataframe\">\n",
       "  <thead>\n",
       "    <tr style=\"text-align: right;\">\n",
       "      <th></th>\n",
       "      <th>Client ID</th>\n",
       "      <th>Domain</th>\n",
       "      <th>City</th>\n",
       "      <th>Region</th>\n",
       "      <th>Browser</th>\n",
       "      <th>Device Category</th>\n",
       "      <th>Date</th>\n",
       "      <th>Pageviews</th>\n",
       "      <th>Campaign</th>\n",
       "      <th>Keyword</th>\n",
       "      <th>...</th>\n",
       "      <th>Source</th>\n",
       "      <th>Avg. Session Duration</th>\n",
       "      <th>Bounce Rate</th>\n",
       "      <th>Sessions</th>\n",
       "      <th>Goal Completion Location</th>\n",
       "      <th>Goal Completions</th>\n",
       "      <th>Goal Conversion Rate</th>\n",
       "      <th>Goal Value</th>\n",
       "      <th>Конверсия</th>\n",
       "      <th>Source conv.</th>\n",
       "    </tr>\n",
       "  </thead>\n",
       "  <tbody>\n",
       "    <tr>\n",
       "      <th>0</th>\n",
       "      <td>GA1.2.1029165320.1581675414</td>\n",
       "      <td>BMW-keyauto-krd.ru</td>\n",
       "      <td>Zurich</td>\n",
       "      <td>Zurich</td>\n",
       "      <td>Chrome</td>\n",
       "      <td>mobile</td>\n",
       "      <td>14 февраля 2020 г.</td>\n",
       "      <td>18</td>\n",
       "      <td>(not set)</td>\n",
       "      <td>(not set)</td>\n",
       "      <td>...</td>\n",
       "      <td>cars.BMW-keyauto-krd.ru</td>\n",
       "      <td>0.002292</td>\n",
       "      <td>0.0</td>\n",
       "      <td>1</td>\n",
       "      <td>/offers/buy/?trade_source=footer</td>\n",
       "      <td>1</td>\n",
       "      <td>1.0</td>\n",
       "      <td>38039</td>\n",
       "      <td>1</td>\n",
       "      <td>cars.BMW-keyauto-krd.ru</td>\n",
       "    </tr>\n",
       "    <tr>\n",
       "      <th>1</th>\n",
       "      <td>GA1.2.1029165320.1581675414</td>\n",
       "      <td>cars.BMW-keyauto-krd.ru</td>\n",
       "      <td>Zurich</td>\n",
       "      <td>Zurich</td>\n",
       "      <td>Chrome</td>\n",
       "      <td>mobile</td>\n",
       "      <td>14 февраля 2020 г.</td>\n",
       "      <td>6</td>\n",
       "      <td>(not set)</td>\n",
       "      <td>(not set)</td>\n",
       "      <td>...</td>\n",
       "      <td>BMW-keyauto-krd.ru</td>\n",
       "      <td>0.000926</td>\n",
       "      <td>0.0</td>\n",
       "      <td>2</td>\n",
       "      <td>/</td>\n",
       "      <td>1</td>\n",
       "      <td>0.5</td>\n",
       "      <td>17971</td>\n",
       "      <td>1</td>\n",
       "      <td>BMW-keyauto-krd.ru</td>\n",
       "    </tr>\n",
       "    <tr>\n",
       "      <th>2</th>\n",
       "      <td>GA1.2.1029165320.1581675414</td>\n",
       "      <td>BMW-keyauto-krd.ru</td>\n",
       "      <td>Zurich</td>\n",
       "      <td>Zurich</td>\n",
       "      <td>Chrome</td>\n",
       "      <td>mobile</td>\n",
       "      <td>14 февраля 2020 г.</td>\n",
       "      <td>18</td>\n",
       "      <td>(not set)</td>\n",
       "      <td>(not set)</td>\n",
       "      <td>...</td>\n",
       "      <td>cars.BMW-keyauto-krd.ru</td>\n",
       "      <td>0.002292</td>\n",
       "      <td>0.0</td>\n",
       "      <td>1</td>\n",
       "      <td>/</td>\n",
       "      <td>1</td>\n",
       "      <td>1.0</td>\n",
       "      <td>21442</td>\n",
       "      <td>1</td>\n",
       "      <td>cars.BMW-keyauto-krd.ru</td>\n",
       "    </tr>\n",
       "    <tr>\n",
       "      <th>3</th>\n",
       "      <td>GA1.2.360702973.1573932024</td>\n",
       "      <td>BMW-keyauto-krd.ru</td>\n",
       "      <td>Zurich</td>\n",
       "      <td>Zurich</td>\n",
       "      <td>YaBrowser</td>\n",
       "      <td>mobile</td>\n",
       "      <td>28 января 2020 г.</td>\n",
       "      <td>2</td>\n",
       "      <td>(not set)</td>\n",
       "      <td>(not set)</td>\n",
       "      <td>...</td>\n",
       "      <td>yandex.ru</td>\n",
       "      <td>0</td>\n",
       "      <td>0.0</td>\n",
       "      <td>1</td>\n",
       "      <td>/models/NewElantra/</td>\n",
       "      <td>0</td>\n",
       "      <td>0.0</td>\n",
       "      <td>0</td>\n",
       "      <td>0</td>\n",
       "      <td>yandex.ru</td>\n",
       "    </tr>\n",
       "    <tr>\n",
       "      <th>4</th>\n",
       "      <td>GA1.2.1394084210.1579796276</td>\n",
       "      <td>Mersedes-krasnodar.ru</td>\n",
       "      <td>Zurich</td>\n",
       "      <td>Zurich</td>\n",
       "      <td>Chrome</td>\n",
       "      <td>mobile</td>\n",
       "      <td>27 января 2020 г.</td>\n",
       "      <td>2</td>\n",
       "      <td>(not set)</td>\n",
       "      <td>(not provided)</td>\n",
       "      <td>...</td>\n",
       "      <td>google</td>\n",
       "      <td>0.000567</td>\n",
       "      <td>0.0</td>\n",
       "      <td>2</td>\n",
       "      <td>/models/cla/options/</td>\n",
       "      <td>1</td>\n",
       "      <td>0.5</td>\n",
       "      <td>8498</td>\n",
       "      <td>1</td>\n",
       "      <td>google</td>\n",
       "    </tr>\n",
       "  </tbody>\n",
       "</table>\n",
       "<p>5 rows × 21 columns</p>\n",
       "</div>"
      ],
      "text/plain": [
       "                     Client ID                   Domain    City  Region  \\\n",
       "0  GA1.2.1029165320.1581675414       BMW-keyauto-krd.ru  Zurich  Zurich   \n",
       "1  GA1.2.1029165320.1581675414  cars.BMW-keyauto-krd.ru  Zurich  Zurich   \n",
       "2  GA1.2.1029165320.1581675414       BMW-keyauto-krd.ru  Zurich  Zurich   \n",
       "3   GA1.2.360702973.1573932024       BMW-keyauto-krd.ru  Zurich  Zurich   \n",
       "4  GA1.2.1394084210.1579796276    Mersedes-krasnodar.ru  Zurich  Zurich   \n",
       "\n",
       "     Browser Device Category                Date  Pageviews   Campaign  \\\n",
       "0     Chrome          mobile  14 февраля 2020 г.         18  (not set)   \n",
       "1     Chrome          mobile  14 февраля 2020 г.          6  (not set)   \n",
       "2     Chrome          mobile  14 февраля 2020 г.         18  (not set)   \n",
       "3  YaBrowser          mobile   28 января 2020 г.          2  (not set)   \n",
       "4     Chrome          mobile   27 января 2020 г.          2  (not set)   \n",
       "\n",
       "          Keyword  ...                   Source Avg. Session Duration  \\\n",
       "0       (not set)  ...  cars.BMW-keyauto-krd.ru              0.002292   \n",
       "1       (not set)  ...       BMW-keyauto-krd.ru              0.000926   \n",
       "2       (not set)  ...  cars.BMW-keyauto-krd.ru              0.002292   \n",
       "3       (not set)  ...                yandex.ru                     0   \n",
       "4  (not provided)  ...                   google              0.000567   \n",
       "\n",
       "  Bounce Rate  Sessions          Goal Completion Location Goal Completions  \\\n",
       "0         0.0         1  /offers/buy/?trade_source=footer                1   \n",
       "1         0.0         2                                 /                1   \n",
       "2         0.0         1                                 /                1   \n",
       "3         0.0         1               /models/NewElantra/                0   \n",
       "4         0.0         2              /models/cla/options/                1   \n",
       "\n",
       "   Goal Conversion Rate  Goal Value Конверсия             Source conv.  \n",
       "0                   1.0       38039         1  cars.BMW-keyauto-krd.ru  \n",
       "1                   0.5       17971         1       BMW-keyauto-krd.ru  \n",
       "2                   1.0       21442         1  cars.BMW-keyauto-krd.ru  \n",
       "3                   0.0           0         0                yandex.ru  \n",
       "4                   0.5        8498         1                   google  \n",
       "\n",
       "[5 rows x 21 columns]"
      ]
     },
     "execution_count": 71,
     "metadata": {},
     "output_type": "execute_result"
    }
   ],
   "source": [
    "file_name = 'https://docs.google.com/spreadsheets/d/152JyksagijqyscnrFDc6Ez2VjT5MKNXpDOyc4PRlauw/edit#gid=916171308'\n",
    "\n",
    "if file_name.endswith('.xlsx'):\n",
    "    df = pd.read_excel(\n",
    "        file_name,\n",
    "        engine='openpyxl'\n",
    "    )\n",
    "    print(df)\n",
    "elif file_name.endswith('.xls'):\n",
    "    df = pd.read_excel(\n",
    "        file_name,\n",
    "        engine='xlrd'\n",
    "    )\n",
    "    print(df)\n",
    "elif file_name.endswith('.csv'):\n",
    "    df = pd.read_csv(file_name)\n",
    "df.head()"
   ]
  },
  {
   "cell_type": "code",
   "execution_count": 72,
   "id": "ca883463",
   "metadata": {},
   "outputs": [
    {
     "name": "stdout",
     "output_type": "stream",
     "text": [
      "<class 'pandas.core.frame.DataFrame'>\n",
      "RangeIndex: 66162 entries, 0 to 66161\n",
      "Data columns (total 21 columns):\n",
      " #   Column                    Non-Null Count  Dtype  \n",
      "---  ------                    --------------  -----  \n",
      " 0   Client ID                 66162 non-null  object \n",
      " 1   Domain                    66162 non-null  object \n",
      " 2   City                      66162 non-null  object \n",
      " 3   Region                    66162 non-null  object \n",
      " 4   Browser                   66162 non-null  object \n",
      " 5   Device Category           66162 non-null  object \n",
      " 6   Date                      66162 non-null  object \n",
      " 7   Pageviews                 66162 non-null  int64  \n",
      " 8   Campaign                  66162 non-null  object \n",
      " 9   Keyword                   64710 non-null  object \n",
      " 10  Medium                    66162 non-null  object \n",
      " 11  Source                    66162 non-null  object \n",
      " 12  Avg. Session Duration     66162 non-null  object \n",
      " 13  Bounce Rate               66162 non-null  float64\n",
      " 14  Sessions                  66162 non-null  int64  \n",
      " 15  Goal Completion Location  66162 non-null  object \n",
      " 16  Goal Completions          66162 non-null  int64  \n",
      " 17  Goal Conversion Rate      66162 non-null  float64\n",
      " 18  Goal Value                66162 non-null  object \n",
      " 19  Конверсия                 66162 non-null  int64  \n",
      " 20  Source conv.              66162 non-null  object \n",
      "dtypes: float64(2), int64(4), object(15)\n",
      "memory usage: 10.6+ MB\n"
     ]
    }
   ],
   "source": [
    "df.info()\n"
   ]
  },
  {
   "cell_type": "markdown",
   "id": "23c54624",
   "metadata": {},
   "source": [
    "## 1. Из каких регионов больше всего заявок"
   ]
  },
  {
   "cell_type": "code",
   "execution_count": 73,
   "id": "7838608b",
   "metadata": {},
   "outputs": [
    {
     "data": {
      "text/plain": [
       "Krasnodar Krai    47648\n",
       "Stavropol Krai     3246\n",
       "Rostov Oblast      2388\n",
       "Moscow             2116\n",
       "Crimea             1363\n",
       "Name: Region, dtype: int64"
      ]
     },
     "execution_count": 73,
     "metadata": {},
     "output_type": "execute_result"
    }
   ],
   "source": [
    "df['Region'].value_counts().head()"
   ]
  },
  {
   "cell_type": "markdown",
   "id": "0dbc2ea5",
   "metadata": {},
   "source": [
    "## 2.  Какой средний процент отказов (Bounce)"
   ]
  },
  {
   "cell_type": "code",
   "execution_count": 74,
   "id": "aec992fc",
   "metadata": {},
   "outputs": [],
   "source": [
    "df['Bounce Rate'].replace({'-': 0},inplace =True)"
   ]
  },
  {
   "cell_type": "code",
   "execution_count": 75,
   "id": "9968d20c",
   "metadata": {},
   "outputs": [
    {
     "data": {
      "text/plain": [
       "0        0.0\n",
       "1        0.0\n",
       "2        0.0\n",
       "3        0.0\n",
       "4        0.0\n",
       "        ... \n",
       "66157    0.0\n",
       "66158    0.0\n",
       "66159    0.0\n",
       "66160    0.0\n",
       "66161    0.0\n",
       "Name: Bounce Rate, Length: 66162, dtype: float64"
      ]
     },
     "execution_count": 75,
     "metadata": {},
     "output_type": "execute_result"
    }
   ],
   "source": [
    "df['Bounce Rate'].astype(float)"
   ]
  },
  {
   "cell_type": "code",
   "execution_count": 76,
   "id": "aaf0f582",
   "metadata": {},
   "outputs": [
    {
     "data": {
      "text/plain": [
       "0.22641395362897132"
      ]
     },
     "execution_count": 76,
     "metadata": {},
     "output_type": "execute_result"
    }
   ],
   "source": [
    "df['Bounce Rate'].mean()*100"
   ]
  },
  {
   "cell_type": "markdown",
   "id": "a9a73754",
   "metadata": {},
   "source": [
    "## 3. С каких устройств чаще заходят на сайты"
   ]
  },
  {
   "cell_type": "code",
   "execution_count": 77,
   "id": "ae1d9a45",
   "metadata": {},
   "outputs": [
    {
     "data": {
      "text/plain": [
       "mobile     39465\n",
       "desktop    24630\n",
       "tablet      2067\n",
       "Name: Device Category, dtype: int64"
      ]
     },
     "execution_count": 77,
     "metadata": {},
     "output_type": "execute_result"
    }
   ],
   "source": [
    "df['Device Category'].value_counts()"
   ]
  },
  {
   "cell_type": "markdown",
   "id": "1a055fb1",
   "metadata": {},
   "source": [
    "## 4. Какие источники наиболее конвертируемые"
   ]
  },
  {
   "cell_type": "code",
   "execution_count": 78,
   "id": "5f7c0c79",
   "metadata": {},
   "outputs": [
    {
     "data": {
      "text/html": [
       "<div>\n",
       "<style scoped>\n",
       "    .dataframe tbody tr th:only-of-type {\n",
       "        vertical-align: middle;\n",
       "    }\n",
       "\n",
       "    .dataframe tbody tr th {\n",
       "        vertical-align: top;\n",
       "    }\n",
       "\n",
       "    .dataframe thead th {\n",
       "        text-align: right;\n",
       "    }\n",
       "</style>\n",
       "<table border=\"1\" class=\"dataframe\">\n",
       "  <thead>\n",
       "    <tr style=\"text-align: right;\">\n",
       "      <th></th>\n",
       "      <th>Конверсия</th>\n",
       "    </tr>\n",
       "    <tr>\n",
       "      <th>Source</th>\n",
       "      <th></th>\n",
       "    </tr>\n",
       "  </thead>\n",
       "  <tbody>\n",
       "    <tr>\n",
       "      <th>google</th>\n",
       "      <td>9106</td>\n",
       "    </tr>\n",
       "    <tr>\n",
       "      <th>yandex.ru</th>\n",
       "      <td>5668</td>\n",
       "    </tr>\n",
       "    <tr>\n",
       "      <th>yandex</th>\n",
       "      <td>5035</td>\n",
       "    </tr>\n",
       "    <tr>\n",
       "      <th>(direct)</th>\n",
       "      <td>4790</td>\n",
       "    </tr>\n",
       "    <tr>\n",
       "      <th>BMW-keyauto-krd.ru</th>\n",
       "      <td>4151</td>\n",
       "    </tr>\n",
       "  </tbody>\n",
       "</table>\n",
       "</div>"
      ],
      "text/plain": [
       "                    Конверсия\n",
       "Source                       \n",
       "google                   9106\n",
       "yandex.ru                5668\n",
       "yandex                   5035\n",
       "(direct)                 4790\n",
       "BMW-keyauto-krd.ru       4151"
      ]
     },
     "execution_count": 78,
     "metadata": {},
     "output_type": "execute_result"
    }
   ],
   "source": [
    "df.groupby('Source').agg({'Конверсия': 'sum'}).sort_values('Конверсия', ascending=False).head()"
   ]
  },
  {
   "cell_type": "markdown",
   "id": "b95c3f5a",
   "metadata": {},
   "source": [
    "##  5.Ответьте на вопрос: каких показателей не хватает, чтобы посчитать чистую прибыль?\n"
   ]
  },
  {
   "cell_type": "markdown",
   "id": "cfa87b08",
   "metadata": {},
   "source": [
    "Стоимости автомобиля, постоянных издержек (аренда, зп сотрудников, налоги)"
   ]
  },
  {
   "cell_type": "code",
   "execution_count": null,
   "id": "3b1dfe93",
   "metadata": {},
   "outputs": [],
   "source": []
  }
 ],
 "metadata": {
  "kernelspec": {
   "display_name": "Python 3 (ipykernel)",
   "language": "python",
   "name": "python3"
  },
  "language_info": {
   "codemirror_mode": {
    "name": "ipython",
    "version": 3
   },
   "file_extension": ".py",
   "mimetype": "text/x-python",
   "name": "python",
   "nbconvert_exporter": "python",
   "pygments_lexer": "ipython3",
   "version": "3.10.9"
  }
 },
 "nbformat": 4,
 "nbformat_minor": 5
}
